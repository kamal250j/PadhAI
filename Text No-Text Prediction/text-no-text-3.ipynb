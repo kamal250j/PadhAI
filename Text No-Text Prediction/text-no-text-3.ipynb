{
 "cells": [
  {
   "cell_type": "code",
   "execution_count": 1,
   "metadata": {
    "_uuid": "f6bb012bfa64e4eb6ca19d7b9545ec8b0ac184df",
    "colab": {},
    "colab_type": "code",
    "id": "a192xmwKijHs"
   },
   "outputs": [],
   "source": [
    "import os\n",
    "import sys\n",
    "import pickle\n",
    "import numpy as np\n",
    "import pandas as pd\n",
    "from PIL import Image, ImageFilter\n",
    "from tqdm import tqdm_notebook\n",
    "from sklearn.preprocessing import StandardScaler\n",
    "from sklearn.metrics import accuracy_score, mean_squared_error, log_loss, confusion_matrix\n",
    "import matplotlib.pyplot as plt\n",
    "\n",
    "np.random.seed(100)\n",
    "LEVEL = 'level_3'"
   ]
  },
  {
   "cell_type": "code",
   "execution_count": 2,
   "metadata": {
    "_uuid": "15b357a1b2d75184691187649d36280b394e1318"
   },
   "outputs": [],
   "source": [
    "import warnings\n",
    "warnings.filterwarnings('ignore')"
   ]
  },
  {
   "cell_type": "code",
   "execution_count": 3,
   "metadata": {
    "_uuid": "0058723a7ed4faa9a617b3320c5c6bdc47cd80a7",
    "colab": {},
    "colab_type": "code",
    "id": "fIuRdSezijHx"
   },
   "outputs": [],
   "source": [
    "class SigmoidNeuron:\n",
    "  \n",
    "  def __init__(self):\n",
    "    self.w = None\n",
    "    self.b = None\n",
    "    \n",
    "  def perceptron(self, x):\n",
    "    return np.dot(x, self.w.T) + self.b\n",
    "  \n",
    "  def sigmoid(self, x):\n",
    "    return 1.0/(1.0 + np.exp(-x))\n",
    "  \n",
    "  def grad_w_mse(self, x, y):\n",
    "    y_pred = self.sigmoid(self.perceptron(x))\n",
    "    return (y_pred - y) * y_pred * (1 - y_pred) * x\n",
    "  \n",
    "  def grad_b_mse(self, x, y):\n",
    "    y_pred = self.sigmoid(self.perceptron(x))\n",
    "    return (y_pred - y) * y_pred * (1 - y_pred)\n",
    "  \n",
    "  def grad_w_ce(self, x, y):\n",
    "    y_pred = self.sigmoid(self.perceptron(x))\n",
    "    if y == 0:\n",
    "      return y_pred * x\n",
    "    elif y == 1:\n",
    "      return -1 * (1 - y_pred) * x\n",
    "    else:\n",
    "      raise ValueError(\"y should be 0 or 1\")\n",
    "    \n",
    "  def grad_b_ce(self, x, y):\n",
    "    y_pred = self.sigmoid(self.perceptron(x))\n",
    "    if y == 0:\n",
    "      return y_pred \n",
    "    elif y == 1:\n",
    "      return -1 * (1 - y_pred)\n",
    "    else:\n",
    "      raise ValueError(\"y should be 0 or 1\")\n",
    "  \n",
    "  def fit(self, X, Y, epochs=1, learning_rate=1, initialise=True, loss_fn=\"mse\", display_loss=False):\n",
    "    \n",
    "    # initialise w, b\n",
    "    if initialise:\n",
    "      self.w = np.random.randn(1, X.shape[1])\n",
    "      self.b = 0\n",
    "      \n",
    "    if display_loss:\n",
    "      loss = {}\n",
    "    \n",
    "    for i in tqdm_notebook(range(epochs), total=epochs, unit=\"epoch\"):\n",
    "      dw = 0\n",
    "      db = 0\n",
    "      for x, y in zip(X, Y):\n",
    "        if loss_fn == \"mse\":\n",
    "          dw += self.grad_w_mse(x, y)\n",
    "          db += self.grad_b_mse(x, y) \n",
    "        elif loss_fn == \"ce\":\n",
    "          dw += self.grad_w_ce(x, y)\n",
    "          db += self.grad_b_ce(x, y)\n",
    "      self.w -= learning_rate * dw\n",
    "      self.b -= learning_rate * db\n",
    "      \n",
    "      if display_loss:\n",
    "        Y_pred = self.sigmoid(self.perceptron(X))\n",
    "        if loss_fn == \"mse\":\n",
    "          loss[i] = mean_squared_error(Y, Y_pred)\n",
    "        elif loss_fn == \"ce\":\n",
    "          loss[i] = log_loss(Y, Y_pred)\n",
    "    \n",
    "    if display_loss:\n",
    "      plt.plot(loss.values())\n",
    "      plt.xlabel('Epochs')\n",
    "      if loss_fn == \"mse\":\n",
    "        plt.ylabel('Mean Squared Error')\n",
    "      elif loss_fn == \"ce\":\n",
    "        plt.ylabel('Log Loss')\n",
    "      plt.show()\n",
    "      \n",
    "  def predict(self, X):\n",
    "    Y_pred = []\n",
    "    for x in X:\n",
    "      y_pred = self.sigmoid(self.perceptron(x))\n",
    "      Y_pred.append(y_pred)\n",
    "    return np.array(Y_pred)"
   ]
  },
  {
   "cell_type": "code",
   "execution_count": 4,
   "metadata": {
    "_uuid": "0194c5fc8d1e6e09764acc02dcc19a2abb2e29b4"
   },
   "outputs": [],
   "source": [
    "def displayImage(file_path):\n",
    "    image = Image.open(file_path)\n",
    "    image = image.convert(\"L\")\n",
    "    plt.imshow(image)"
   ]
  },
  {
   "cell_type": "code",
   "execution_count": 5,
   "metadata": {
    "_uuid": "29027c7cfe38132c6045eb6ac2afa2d8482e821d"
   },
   "outputs": [],
   "source": [
    "def display_numpy_array(file_path):\n",
    "    image = Image.open(file_path)\n",
    "    image = image.convert(\"L\")\n",
    "    arr = np.array(image)\n",
    "    arr[arr > 50] = 255\n",
    "    print(arr[35:60,40:56])\n",
    "    image = Image.fromarray(arr,'L')\n",
    "    plt.imshow(image)"
   ]
  },
  {
   "cell_type": "code",
   "execution_count": 6,
   "metadata": {
    "_uuid": "d20466c669c1d821336975c8fc9e42a46f66760a"
   },
   "outputs": [],
   "source": [
    "def read_single_image(folder_path,image_no):\n",
    "    files = os.listdir(folder_path)\n",
    "    file_path = os.path.join(folder_path,files[image_no])\n",
    "    displayImage(file_path)\n",
    "    #display_numpy_array(file_path)"
   ]
  },
  {
   "cell_type": "code",
   "execution_count": 7,
   "metadata": {
    "_uuid": "46c9505cd9e277aaa3a0fd82084982cfd6ece8dc"
   },
   "outputs": [
    {
     "data": {
      "image/png": "[encoded data removed]",
      "text/plain": [
       "<Figure size 432x288 with 1 Axes>"
      ]
     },
     "metadata": {},
     "output_type": "display_data"
    }
   ],
   "source": [
    "read_single_image(\"../input/level_3_train/\"+LEVEL+\"/\"+\"en\",8)"
   ]
  },
  {
   "cell_type": "code",
   "execution_count": 8,
   "metadata": {
    "_uuid": "7c06eb4a5ceebcb6bf77c37b5518c6f5549cc04d",
    "colab": {},
    "colab_type": "code",
    "id": "VDe2wjl_ijH0"
   },
   "outputs": [],
   "source": [
    "def read_all(folder_path, key_prefix=\"\"):\n",
    "    '''\n",
    "    It returns a dictionary with 'file names' as keys and 'flattened image arrays' as values.\n",
    "    '''\n",
    "    print(\"Reading:\")\n",
    "    images = {}\n",
    "    files = os.listdir(folder_path)\n",
    "    for i, file_name in tqdm_notebook(enumerate(files), total=len(files)):\n",
    "        file_path = os.path.join(folder_path, file_name)\n",
    "        image_index = key_prefix + file_name[:-4]\n",
    "        image = Image.open(file_path)\n",
    "        image = image.convert(\"L\")\n",
    "        arr = np.array(image)\n",
    "        arr[arr > 25] = 255\n",
    "        image = Image.fromarray(arr,'L')\n",
    "        images[image_index] = np.array(image.copy()).flatten()\n",
    "        image.close()\n",
    "    return images"
   ]
  },
  {
   "cell_type": "code",
   "execution_count": 9,
   "metadata": {
    "_uuid": "d1e73d7539e338a74eff3d4055729651047f7dfd",
    "colab": {},
    "colab_type": "code",
    "id": "mjuaN532ijH4",
    "outputId": "4124ae5e-4a9c-44dc-8c84-7919e6927fe5"
   },
   "outputs": [
    {
     "name": "stdout",
     "output_type": "stream",
     "text": [
      "Reading:\n"
     ]
    },
    {
     "data": {
      "application/vnd.jupyter.widget-view+json": {
       "model_id": "2b8d506dbf354509ab38d3240a13e9b5",
       "version_major": 2,
       "version_minor": 0
      },
      "text/plain": [
       "HBox(children=(IntProgress(value=0, max=4500), HTML(value='')))"
      ]
     },
     "metadata": {},
     "output_type": "display_data"
    },
    {
     "name": "stdout",
     "output_type": "stream",
     "text": [
      "\n",
      "Reading:\n"
     ]
    },
    {
     "data": {
      "application/vnd.jupyter.widget-view+json": {
       "model_id": "c694b7927f6e4f4c8de6a93dd6599ae8",
       "version_major": 2,
       "version_minor": 0
      },
      "text/plain": [
       "HBox(children=(IntProgress(value=0, max=1500), HTML(value='')))"
      ]
     },
     "metadata": {},
     "output_type": "display_data"
    },
    {
     "name": "stdout",
     "output_type": "stream",
     "text": [
      "\n",
      "Reading:\n"
     ]
    },
    {
     "data": {
      "application/vnd.jupyter.widget-view+json": {
       "model_id": "b55db2214a6b4ba2b0ca1410920e48bc",
       "version_major": 2,
       "version_minor": 0
      },
      "text/plain": [
       "HBox(children=(IntProgress(value=0, max=1500), HTML(value='')))"
      ]
     },
     "metadata": {},
     "output_type": "display_data"
    },
    {
     "name": "stdout",
     "output_type": "stream",
     "text": [
      "\n",
      "Reading:\n"
     ]
    },
    {
     "data": {
      "application/vnd.jupyter.widget-view+json": {
       "model_id": "9418d4021e8a4790bff04eaecf019c8b",
       "version_major": 2,
       "version_minor": 0
      },
      "text/plain": [
       "HBox(children=(IntProgress(value=0, max=1500), HTML(value='')))"
      ]
     },
     "metadata": {},
     "output_type": "display_data"
    },
    {
     "name": "stdout",
     "output_type": "stream",
     "text": [
      "\n",
      "9000\n",
      "Reading:\n"
     ]
    },
    {
     "data": {
      "application/vnd.jupyter.widget-view+json": {
       "model_id": "eece18fc892e434fa672edc958028e46",
       "version_major": 2,
       "version_minor": 0
      },
      "text/plain": [
       "HBox(children=(IntProgress(value=0, max=3000), HTML(value='')))"
      ]
     },
     "metadata": {},
     "output_type": "display_data"
    },
    {
     "name": "stdout",
     "output_type": "stream",
     "text": [
      "\n",
      "3000\n"
     ]
    }
   ],
   "source": [
    "languages = ['ta', 'hi', 'en']\n",
    "\n",
    "images_train = read_all(\"../input/level_3_train/\"+LEVEL+\"/\"+\"background\", key_prefix='bgr_') # change the path\n",
    "for language in languages:\n",
    "  images_train.update(read_all(\"../input/level_3_train/\"+LEVEL+\"/\"+language, key_prefix=language+\"_\" ))\n",
    "print(len(images_train))\n",
    "\n",
    "images_test = read_all(\"../input/level_3_test/kaggle_\"+LEVEL, key_prefix='') # change the path\n",
    "print(len(images_test))"
   ]
  },
  {
   "cell_type": "code",
   "execution_count": 10,
   "metadata": {
    "_uuid": "451da84d400514478fc5537e538929c6e362693e",
    "colab": {},
    "colab_type": "code",
    "id": "xqcTJRmSijH-",
    "outputId": "3a26f608-868b-498d-b18d-bfae2b452d4e"
   },
   "outputs": [
    {
     "data": {
      "text/plain": [
       "['1621', '2136', '2633', '2638', '2546']"
      ]
     },
     "execution_count": 10,
     "metadata": {},
     "output_type": "execute_result"
    }
   ],
   "source": [
    "list(images_test.keys())[:5]"
   ]
  },
  {
   "cell_type": "code",
   "execution_count": 11,
   "metadata": {
    "_uuid": "637926ab3654260e04fea01b545525f85ca84f51",
    "colab": {},
    "colab_type": "code",
    "id": "yQUKxV_FijIC",
    "outputId": "e6f2538b-3285-49ea-d6fd-7fbadc2bb975"
   },
   "outputs": [
    {
     "name": "stdout",
     "output_type": "stream",
     "text": [
      "(9000, 4096) (9000,)\n",
      "(3000, 4096)\n"
     ]
    }
   ],
   "source": [
    "X_train = []\n",
    "Y_train = []\n",
    "for key, value in images_train.items():\n",
    "    X_train.append(value)\n",
    "    if key[:4] == \"bgr_\":\n",
    "        Y_train.append(0)\n",
    "    else:\n",
    "        Y_train.append(1)\n",
    "\n",
    "ID_test = []\n",
    "X_test = []\n",
    "for key, value in images_test.items():\n",
    "  ID_test.append(int(key))\n",
    "  X_test.append(value)\n",
    "  \n",
    "        \n",
    "X_train = np.array(X_train)\n",
    "Y_train = np.array(Y_train)\n",
    "X_test = np.array(X_test)\n",
    "\n",
    "print(X_train.shape, Y_train.shape)\n",
    "print(X_test.shape)"
   ]
  },
  {
   "cell_type": "code",
   "execution_count": 12,
   "metadata": {
    "_uuid": "276bc23567a1805229e9a8a738a3241824bb7135",
    "colab": {},
    "colab_type": "code",
    "id": "wy3IKx26ijIG",
    "outputId": "f571f85d-1fe6-4a33-bcf1-ca1574aa3709"
   },
   "outputs": [],
   "source": [
    "scaler = StandardScaler()\n",
    "X_scaled_train = scaler.fit_transform(X_train)\n",
    "X_scaled_test = scaler.transform(X_test)"
   ]
  },
  {
   "cell_type": "code",
   "execution_count": 13,
   "metadata": {
    "_uuid": "feba21a5d7047a478dcb8cb541a13dd6e0f7e0b0",
    "colab": {},
    "colab_type": "code",
    "id": "eboQW2n1ijIK",
    "outputId": "fa8fbf5d-5d5c-4463-aa3c-909d6698b9b0"
   },
   "outputs": [],
   "source": [
    "#sn_mse = SigmoidNeuron()\n",
    "#sn_mse.fit(X_scaled_train, Y_train, epochs=3000, learning_rate=0.01, loss_fn=\"mse\", display_loss=True)"
   ]
  },
  {
   "cell_type": "code",
   "execution_count": 14,
   "metadata": {
    "_uuid": "ff995e6e38c931dafc86671c366f709393edd6a2",
    "colab": {},
    "colab_type": "code",
    "id": "547SFsgsijIO",
    "outputId": "e6595d5e-a9e0-4b5f-f7b5-a56297bc69c0"
   },
   "outputs": [
    {
     "data": {
      "application/vnd.jupyter.widget-view+json": {
       "model_id": "a0a73e8b62a04d4089f24f190904b3a6",
       "version_major": 2,
       "version_minor": 0
      },
      "text/plain": [
       "HBox(children=(IntProgress(value=0, max=500), HTML(value='')))"
      ]
     },
     "metadata": {},
     "output_type": "display_data"
    },
    {
     "name": "stdout",
     "output_type": "stream",
     "text": [
      "\n"
     ]
    },
    {
     "data": {
      "image/png": "[encoded data removed]",
      "text/plain": [
       "<Figure size 432x288 with 1 Axes>"
      ]
     },
     "metadata": {},
     "output_type": "display_data"
    }
   ],
   "source": [
    "sn_ce = SigmoidNeuron()\n",
    "sn_ce.fit(X_scaled_train, Y_train, epochs=500, learning_rate=0.002, loss_fn=\"ce\", display_loss=True)"
   ]
  },
  {
   "cell_type": "code",
   "execution_count": 15,
   "metadata": {
    "_uuid": "52027f71368d75937512b7e0e6110022e16ffff6"
   },
   "outputs": [],
   "source": [
    "# sn_ce.fit(X_scaled_train, Y_train, epochs=500,initialise = False, learning_rate=0.00002, loss_fn=\"ce\", display_loss=True)"
   ]
  },
  {
   "cell_type": "code",
   "execution_count": 16,
   "metadata": {
    "_uuid": "4260a69e87c59db554aee7333194794410583c65"
   },
   "outputs": [],
   "source": [
    "# sn_ce.fit(X_scaled_train, Y_train, epochs=10,initialise = False, learning_rate=0.0001, loss_fn=\"ce\", display_loss=True)"
   ]
  },
  {
   "cell_type": "code",
   "execution_count": 17,
   "metadata": {
    "_uuid": "cef87fe026d5ef2cac81ba71b84e24af3d86d88c"
   },
   "outputs": [],
   "source": [
    "def display_plot(Y_pred_train,Y_train,length):\n",
    "    maxi = 1.0e-64\n",
    "    mini = 2.0\n",
    "    for i in range(length):\n",
    "        if Y_train[i] == 0:\n",
    "            maxi = max(maxi,Y_pred_train[i])\n",
    "        if Y_train[i] == 1:\n",
    "            mini = min(mini,Y_pred_train[i])\n",
    "    print('maxi = ',maxi)\n",
    "    print('mini = ',mini)\n",
    "    index = list(i for i in range(length))\n",
    "    for i in range(length):\n",
    "        if Y_train[i] == 1:\n",
    "            temp = 'g'\n",
    "        else:\n",
    "            temp = 'r'\n",
    "        plt.plot(i,Y_pred_train[i],'*',color = temp)"
   ]
  },
  {
   "cell_type": "code",
   "execution_count": 18,
   "metadata": {
    "_uuid": "1798089713c72e3654c6b88bae41f033c451fc20",
    "colab": {},
    "colab_type": "code",
    "id": "_a3_-9zYijIS"
   },
   "outputs": [],
   "source": [
    "def print_accuracy(sn):\n",
    "  Y_pred_train = sn.predict(X_scaled_train)\n",
    "  Y_pred_binarised_train = (Y_pred_train >= 0.2).astype(\"int\").ravel()\n",
    "  accuracy_train = accuracy_score(Y_pred_binarised_train, Y_train)\n",
    "  print(\"Train Accuracy : \", accuracy_train)\n",
    "  print(\"-\"*50)\n",
    "  #display_plot(Y_pred_train,Y_train,len(Y_pred_train))"
   ]
  },
  {
   "cell_type": "code",
   "execution_count": 19,
   "metadata": {
    "_uuid": "f8f3e9014654b6e2fd81e317b6b45e4960c235a1",
    "colab": {},
    "colab_type": "code",
    "id": "lqe2g9PLijIW",
    "outputId": "0ce4b45c-78f5-4323-829b-db3e12c3f268"
   },
   "outputs": [],
   "source": [
    "#print_accuracy(sn_mse)"
   ]
  },
  {
   "cell_type": "code",
   "execution_count": 20,
   "metadata": {
    "_uuid": "c5d0fe1380c9e3d1e8202b588c3922e34c3ac20b",
    "scrolled": true
   },
   "outputs": [
    {
     "name": "stdout",
     "output_type": "stream",
     "text": [
      "Train Accuracy :  0.9996666666666667\n",
      "--------------------------------------------------\n"
     ]
    }
   ],
   "source": [
    "print_accuracy(sn_ce)"
   ]
  },
  {
   "cell_type": "markdown",
   "metadata": {
    "_uuid": "a91225e449252a3b0a81e4ab46e43a0ce1fe06fe",
    "colab_type": "text",
    "id": "8IMv7SCUijIa"
   },
   "source": [
    "## Sample Submission"
   ]
  },
  {
   "cell_type": "code",
   "execution_count": 21,
   "metadata": {
    "_uuid": "2406204f6c0f7b4babedf757744f30661b9a9ec7",
    "colab": {},
    "colab_type": "code",
    "id": "4_pBsgYlijIb"
   },
   "outputs": [],
   "source": [
    "Y_pred_test = sn_ce.predict(X_scaled_test)\n",
    "Y_pred_binarised_test = (Y_pred_test >= 0.2).astype(\"int\").ravel()\n",
    "\n",
    "submission = {}\n",
    "submission['ImageId'] = ID_test\n",
    "submission['Class'] = Y_pred_binarised_test\n",
    "\n",
    "submission = pd.DataFrame(submission)\n",
    "submission = submission[['ImageId', 'Class']]\n",
    "submission = submission.sort_values(['ImageId'])\n",
    "submission.to_csv(\"submisision.csv\", index=False)"
   ]
  },
  {
   "cell_type": "code",
   "execution_count": 22,
   "metadata": {
    "_uuid": "55d819be8e1e0a9fc7f622779064b4b48d32051e",
    "colab": {},
    "colab_type": "code",
    "id": "LCkK3-CDijIe",
    "scrolled": true
   },
   "outputs": [],
   "source": [
    "# display_plot(Y_pred_test,Y_pred_binarised_test,len(Y_pred_test))"
   ]
  }
 ],
 "metadata": {
  "colab": {
   "collapsed_sections": [],
   "name": "Text - Non Text Classification.ipynb",
   "provenance": [],
   "version": "0.3.2"
  },
  "kernelspec": {
   "display_name": "Python 3",
   "language": "python",
   "name": "python3"
  },
  "language_info": {
   "codemirror_mode": {
    "name": "ipython",
    "version": 3
   },
   "file_extension": ".py",
   "mimetype": "text/x-python",
   "name": "python",
   "nbconvert_exporter": "python",
   "pygments_lexer": "ipython3",
   "version": "3.6.6"
  }
 },
 "nbformat": 4,
 "nbformat_minor": 1
}
